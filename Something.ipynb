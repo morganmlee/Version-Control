name = input("What is your name?")
age = input("What is your age?")
print(f"Hello, {name}. You are {age} years old.")
if age > 10:
  print(f"You are older than 10)
else:
  print(f"You are younger than 10)
